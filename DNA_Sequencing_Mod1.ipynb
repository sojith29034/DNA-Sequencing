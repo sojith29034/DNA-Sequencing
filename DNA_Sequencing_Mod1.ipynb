{
  "nbformat": 4,
  "nbformat_minor": 0,
  "metadata": {
    "colab": {
      "provenance": [],
      "toc_visible": true,
      "authorship_tag": "ABX9TyMBRZS8BHMETL71fEW7Z5qO",
      "include_colab_link": true
    },
    "kernelspec": {
      "name": "python3",
      "display_name": "Python 3"
    },
    "language_info": {
      "name": "python"
    }
  },
  "cells": [
    {
      "cell_type": "markdown",
      "metadata": {
        "id": "view-in-github",
        "colab_type": "text"
      },
      "source": [
        "<a href=\"https://colab.research.google.com/github/sojith29034/DNA-Sequencing/blob/main_branch/DNA_Sequencing_Mod1.ipynb\" target=\"_parent\"><img src=\"https://colab.research.google.com/assets/colab-badge.svg\" alt=\"Open In Colab\"/></a>"
      ]
    },
    {
      "cell_type": "markdown",
      "source": [
        "# Basic string operations in python"
      ],
      "metadata": {
        "id": "shQdVyjP881C"
      }
    },
    {
      "cell_type": "code",
      "execution_count": 1,
      "metadata": {
        "colab": {
          "base_uri": "https://localhost:8080/"
        },
        "collapsed": true,
        "id": "H3ppbNpk9oN4",
        "outputId": "0ad5a291-f00b-4354-98b9-ca87f148b5ec"
      },
      "outputs": [
        {
          "output_type": "stream",
          "name": "stdout",
          "text": [
            "ATGCATGC\n"
          ]
        }
      ],
      "source": [
        "seq1 = 'ATGC'\n",
        "seq2 = 'ATGC'\n",
        "print(seq1 + seq2)"
      ]
    },
    {
      "cell_type": "code",
      "source": [
        "base = \"ACGT\"\n",
        "print(base)"
      ],
      "metadata": {
        "colab": {
          "base_uri": "https://localhost:8080/"
        },
        "id": "1Q1vyBRcxpdD",
        "outputId": "2ab1db91-b2ae-4837-8245-2d348a98fcf5"
      },
      "execution_count": 2,
      "outputs": [
        {
          "output_type": "stream",
          "name": "stdout",
          "text": [
            "ACGT\n"
          ]
        }
      ]
    },
    {
      "cell_type": "code",
      "source": [
        "import random\n",
        "random.choice(base)"
      ],
      "metadata": {
        "colab": {
          "base_uri": "https://localhost:8080/",
          "height": 36
        },
        "id": "2GUIUG9Mx6qD",
        "outputId": "79375a0c-2fe0-4bee-8517-bd6bedc9bef0"
      },
      "execution_count": 3,
      "outputs": [
        {
          "output_type": "execute_result",
          "data": {
            "text/plain": [
              "'C'"
            ],
            "application/vnd.google.colaboratory.intrinsic+json": {
              "type": "string"
            }
          },
          "metadata": {},
          "execution_count": 3
        }
      ]
    },
    {
      "cell_type": "code",
      "source": [
        "random.seed(1)      # so that the random choice does not change\n",
        "random.choice(base)"
      ],
      "metadata": {
        "colab": {
          "base_uri": "https://localhost:8080/",
          "height": 36
        },
        "id": "9bJMqFJyyNsU",
        "outputId": "6cf53ca7-1575-4545-d892-b0f73516287a"
      },
      "execution_count": 4,
      "outputs": [
        {
          "output_type": "execute_result",
          "data": {
            "text/plain": [
              "'C'"
            ],
            "application/vnd.google.colaboratory.intrinsic+json": {
              "type": "string"
            }
          },
          "metadata": {},
          "execution_count": 4
        }
      ]
    },
    {
      "cell_type": "code",
      "source": [
        "seq = ''\n",
        "for _ in range(10):\n",
        "    seq += random.choice(base)\n",
        "print(seq)\n",
        "\n",
        "# OR\n",
        "\n",
        "seq = ''.join([random.choice(base) for _ in range(10)])\n",
        "print(seq)"
      ],
      "metadata": {
        "colab": {
          "base_uri": "https://localhost:8080/"
        },
        "id": "BR6fOnFOycxh",
        "outputId": "39c66f33-219d-4570-a47d-570d74663956"
      },
      "execution_count": 5,
      "outputs": [
        {
          "output_type": "stream",
          "name": "stdout",
          "text": [
            "AGATTTTCAT\n",
            "ATTATGCAGA\n"
          ]
        }
      ]
    },
    {
      "cell_type": "code",
      "source": [
        "seq[1:3]      # from index 1 to index (3-1)\n",
        "seq[3:]       # from index 3 to the end\n",
        "seq[:3]       # from the beginning to index 3\n",
        "seq[-3:]      # from index (len(seq) - 3) to the end"
      ],
      "metadata": {
        "colab": {
          "base_uri": "https://localhost:8080/",
          "height": 36
        },
        "id": "dZ7ACSgsy9R3",
        "outputId": "55ffae0e-7625-4fef-90f5-160fefe4c8fd"
      },
      "execution_count": 6,
      "outputs": [
        {
          "output_type": "execute_result",
          "data": {
            "text/plain": [
              "'AGA'"
            ],
            "application/vnd.google.colaboratory.intrinsic+json": {
              "type": "string"
            }
          },
          "metadata": {},
          "execution_count": 6
        }
      ]
    },
    {
      "cell_type": "markdown",
      "source": [
        "# Manipulating DNA strings"
      ],
      "metadata": {
        "id": "gnh1_3uN9Ve1"
      }
    },
    {
      "cell_type": "code",
      "source": [
        "# To find longest common subsequence among the given strings\n",
        "def longestCommonSubsequence(seq1, seq2):\n",
        "  i=0\n",
        "  while i < len(seq1) and i < len(seq2):\n",
        "    if seq1[i] == seq2[i]:\n",
        "      i += 1\n",
        "    else:\n",
        "      break\n",
        "  return seq1[:i]\n",
        "\n",
        "longestCommonSubsequence('ATGGTC', 'ATGCCCAT')"
      ],
      "metadata": {
        "colab": {
          "base_uri": "https://localhost:8080/",
          "height": 36
        },
        "id": "OJ4TUXABOy0v",
        "outputId": "9b818662-1ed1-45b3-9dbd-fad4eeae5572"
      },
      "execution_count": 7,
      "outputs": [
        {
          "output_type": "execute_result",
          "data": {
            "text/plain": [
              "'ATG'"
            ],
            "application/vnd.google.colaboratory.intrinsic+json": {
              "type": "string"
            }
          },
          "metadata": {},
          "execution_count": 7
        }
      ]
    },
    {
      "cell_type": "code",
      "source": [
        "# To check if the two strings match completely\n",
        "def match1(seq1, seq2):\n",
        "  if not len(seq1) == len(seq2):\n",
        "    return False\n",
        "\n",
        "  for i in range(len(seq1)):\n",
        "    if seq1[i] != seq2[i]:\n",
        "      return False\n",
        "  return True\n",
        "\n",
        "# OR\n",
        "\n",
        "def match2(seq1, seq2):\n",
        "  return seq1 == seq2\n",
        "\n",
        "\n",
        "match1('ATGGTC', 'ATGGTC')\n",
        "match2('ATGGTC', 'ATGGTC')\n",
        "\n",
        "match1('ATGGTC', 'ATGCCCAT')\n",
        "match2('ATGGTC', 'ATGCCCAT')"
      ],
      "metadata": {
        "colab": {
          "base_uri": "https://localhost:8080/"
        },
        "id": "A7YQupPhTfqq",
        "outputId": "cd9ed97b-8975-445a-a42d-e4e791e17b08"
      },
      "execution_count": 8,
      "outputs": [
        {
          "output_type": "execute_result",
          "data": {
            "text/plain": [
              "False"
            ]
          },
          "metadata": {},
          "execution_count": 8
        }
      ]
    },
    {
      "cell_type": "code",
      "source": [
        "# To reverse and complement a DNA sequence\n",
        "def reverseComplement1(seq):\n",
        "  complement = {'A': 'T', 'T': 'A', 'C': 'G', 'G': 'C'}\n",
        "  x=''\n",
        "  for base in seq:\n",
        "    x = complement[base] + x   # if it is x += complement[base], it will not be reversed\n",
        "  return x\n",
        "\n",
        "# OR\n",
        "\n",
        "def reverseComplement2(seq):\n",
        "  complement = {'A': 'T', 'T': 'A', 'C': 'G', 'G': 'C'}\n",
        "  return ''.join([complement[base] for base in seq[::-1]])\n",
        "\n",
        "reverseComplement1('ATGGTC')\n",
        "reverseComplement2('ATGGTC')"
      ],
      "metadata": {
        "colab": {
          "base_uri": "https://localhost:8080/",
          "height": 36
        },
        "id": "v-tLlPbCVAtl",
        "outputId": "00d08b62-69dc-4684-b9ca-388bdc8462d1"
      },
      "execution_count": 9,
      "outputs": [
        {
          "output_type": "execute_result",
          "data": {
            "text/plain": [
              "'GACCAT'"
            ],
            "application/vnd.google.colaboratory.intrinsic+json": {
              "type": "string"
            }
          },
          "metadata": {},
          "execution_count": 9
        }
      ]
    },
    {
      "cell_type": "markdown",
      "source": [
        "# Genome\n"
      ],
      "metadata": {
        "id": "kpH59Stw4EXP"
      }
    },
    {
      "cell_type": "code",
      "source": [
        "# Following line downloads FASTA file containing the lambda phage reference genome\n",
        "!wget http://d28rh4a8wq0iu5.cloudfront.net/ads1/data/lambda_virus.fa"
      ],
      "metadata": {
        "colab": {
          "base_uri": "https://localhost:8080/"
        },
        "id": "Znt1AxmP4Ras",
        "outputId": "7c1c53fb-3b31-4cd6-9c69-13a8ff62aa04"
      },
      "execution_count": 10,
      "outputs": [
        {
          "output_type": "stream",
          "name": "stdout",
          "text": [
            "--2024-07-08 12:47:07--  http://d28rh4a8wq0iu5.cloudfront.net/ads1/data/lambda_virus.fa\n",
            "Resolving d28rh4a8wq0iu5.cloudfront.net (d28rh4a8wq0iu5.cloudfront.net)... 54.230.209.53, 54.230.209.153, 54.230.209.99, ...\n",
            "Connecting to d28rh4a8wq0iu5.cloudfront.net (d28rh4a8wq0iu5.cloudfront.net)|54.230.209.53|:80... connected.\n",
            "HTTP request sent, awaiting response... 200 OK\n",
            "Length: 49270 (48K) [application/octet-stream]\n",
            "Saving to: ‘lambda_virus.fa’\n",
            "\n",
            "\rlambda_virus.fa       0%[                    ]       0  --.-KB/s               \rlambda_virus.fa     100%[===================>]  48.12K  --.-KB/s    in 0.01s   \n",
            "\n",
            "2024-07-08 12:47:07 (3.96 MB/s) - ‘lambda_virus.fa’ saved [49270/49270]\n",
            "\n"
          ]
        }
      ]
    },
    {
      "cell_type": "code",
      "source": [
        "def readGenome(filename):\n",
        "  genome = ''\n",
        "  with open(filename, 'r') as f:\n",
        "    for line in f:\n",
        "      if not line[0] == '>':\n",
        "        genome += line.rstrip()\n",
        "  return genome\n",
        "\n",
        "genome = readGenome('lambda_virus.fa')\n",
        "len(genome)"
      ],
      "metadata": {
        "colab": {
          "base_uri": "https://localhost:8080/"
        },
        "id": "PR_t8hmc5sDK",
        "outputId": "f00abbe3-14d2-4894-ae7c-aecc4a73cfe6"
      },
      "execution_count": 11,
      "outputs": [
        {
          "output_type": "execute_result",
          "data": {
            "text/plain": [
              "48502"
            ]
          },
          "metadata": {},
          "execution_count": 11
        }
      ]
    },
    {
      "cell_type": "code",
      "source": [
        "count = {'A': 0, 'T': 0, 'G': 0, 'C': 0, \"Total\" : 0}\n",
        "for base in genome:\n",
        "  count[base] += 1\n",
        "  count['Total'] += 1\n",
        "print(count)\n",
        "\n",
        "# OR\n",
        "\n",
        "import collections\n",
        "collections.Counter(genome)"
      ],
      "metadata": {
        "colab": {
          "base_uri": "https://localhost:8080/"
        },
        "id": "wvnFClvl6lFv",
        "outputId": "e5881e70-c417-46d7-91c9-0d6264887ef5"
      },
      "execution_count": 12,
      "outputs": [
        {
          "output_type": "stream",
          "name": "stdout",
          "text": [
            "{'A': 12334, 'T': 11986, 'G': 12820, 'C': 11362, 'Total': 48502}\n"
          ]
        },
        {
          "output_type": "execute_result",
          "data": {
            "text/plain": [
              "Counter({'G': 12820, 'C': 11362, 'A': 12334, 'T': 11986})"
            ]
          },
          "metadata": {},
          "execution_count": 12
        }
      ]
    },
    {
      "cell_type": "markdown",
      "source": [
        "# Sequencing Reads"
      ],
      "metadata": {
        "id": "0dKLhj45kJ06"
      }
    },
    {
      "cell_type": "code",
      "source": [
        "!wget http://d28rh4a8wq0iu5.cloudfront.net/ads1/data/SRR835775_1.first1000.fastq"
      ],
      "metadata": {
        "colab": {
          "base_uri": "https://localhost:8080/"
        },
        "id": "4o8WNQOKkK8K",
        "outputId": "c1d3af0b-dd22-48af-f3bb-3f738dd0e49b"
      },
      "execution_count": 13,
      "outputs": [
        {
          "output_type": "stream",
          "name": "stdout",
          "text": [
            "--2024-07-08 12:47:07--  http://d28rh4a8wq0iu5.cloudfront.net/ads1/data/SRR835775_1.first1000.fastq\n",
            "Resolving d28rh4a8wq0iu5.cloudfront.net (d28rh4a8wq0iu5.cloudfront.net)... 54.230.209.53, 54.230.209.153, 54.230.209.99, ...\n",
            "Connecting to d28rh4a8wq0iu5.cloudfront.net (d28rh4a8wq0iu5.cloudfront.net)|54.230.209.53|:80... connected.\n",
            "HTTP request sent, awaiting response... 200 OK\n",
            "Length: 224786 (220K) [application/octet-stream]\n",
            "Saving to: ‘SRR835775_1.first1000.fastq’\n",
            "\n",
            "SRR835775_1.first10 100%[===================>] 219.52K  --.-KB/s    in 0.05s   \n",
            "\n",
            "2024-07-08 12:47:08 (4.64 MB/s) - ‘SRR835775_1.first1000.fastq’ saved [224786/224786]\n",
            "\n"
          ]
        }
      ]
    },
    {
      "cell_type": "code",
      "source": [
        "def readFastq(filename):\n",
        "  sequences = []\n",
        "  qualities = []\n",
        "  with open(filename) as fh:\n",
        "    while True:\n",
        "      fh.readline()\n",
        "      seq = fh.readline().rstrip()\n",
        "      fh.readline()\n",
        "      qual = fh.readline().rstrip()\n",
        "      if len(seq) == 0:\n",
        "        break\n",
        "      sequences.append(seq)\n",
        "      qualities.append(qual)\n",
        "  return sequences, qualities\n",
        "\n",
        "# print(readFastq('SRR835775_1.first1000.fastq'))\n",
        "seqs, quals = readFastq('SRR835775_1.first1000.fastq')\n",
        "# seqs[:5]\n",
        "# quals[:5]"
      ],
      "metadata": {
        "id": "O4KUPYURkbn6"
      },
      "execution_count": 14,
      "outputs": []
    },
    {
      "cell_type": "code",
      "source": [
        "def phred33ToQ(qual):\n",
        "  return ord(qual) - 33"
      ],
      "metadata": {
        "id": "HPkHUx55mzbt"
      },
      "execution_count": 15,
      "outputs": []
    },
    {
      "cell_type": "code",
      "source": [
        "def createHistogram(qualities):\n",
        "  hist = [0] * 50\n",
        "  for qual in qualities:\n",
        "    for phred in qual:\n",
        "      q = phred33ToQ(phred)\n",
        "      hist[q] += 1\n",
        "  return hist\n",
        "\n",
        "print(createHistogram(quals))\n",
        "hist = createHistogram(quals)"
      ],
      "metadata": {
        "colab": {
          "base_uri": "https://localhost:8080/"
        },
        "id": "qJKr1ku9nxbA",
        "outputId": "271aa36f-3f72-41b1-bc9d-bd61f78ba5d8"
      },
      "execution_count": 16,
      "outputs": [
        {
          "output_type": "stream",
          "name": "stdout",
          "text": [
            "[0, 0, 6178, 0, 0, 54, 108, 574, 345, 83, 193, 124, 79, 165, 49, 236, 184, 327, 514, 238, 531, 254, 313, 798, 992, 888, 1396, 1488, 993, 1752, 3387, 4487, 3248, 5476, 8375, 11814, 4243, 7827, 6579, 8179, 9349, 8180, 0, 0, 0, 0, 0, 0, 0, 0]\n"
          ]
        }
      ]
    },
    {
      "cell_type": "code",
      "source": [
        "%matplotlib inline\n",
        "import matplotlib.pyplot as plt\n",
        "plt.bar(range(len(hist)), hist)\n",
        "plt.show()"
      ],
      "metadata": {
        "colab": {
          "base_uri": "https://localhost:8080/",
          "height": 430
        },
        "collapsed": true,
        "id": "l3QSHj0ipAzb",
        "outputId": "3245d148-8e0b-4cb2-f6e4-0a02cce274a8"
      },
      "execution_count": 17,
      "outputs": [
        {
          "output_type": "display_data",
          "data": {
            "text/plain": [
              "<Figure size 640x480 with 1 Axes>"
            ],
            "image/png": "[encoded data removed]"
          },
          "metadata": {}
        }
      ]
    },
    {
      "cell_type": "code",
      "source": [
        "plt.plot(range(len(hist)), hist)\n",
        "plt.show()"
      ],
      "metadata": {
        "collapsed": true,
        "colab": {
          "base_uri": "https://localhost:8080/",
          "height": 430
        },
        "id": "mbFEUQmstNJX",
        "outputId": "d24fba64-67bd-4e7f-96ac-9a9f861b821e"
      },
      "execution_count": 18,
      "outputs": [
        {
          "output_type": "display_data",
          "data": {
            "text/plain": [
              "<Figure size 640x480 with 1 Axes>"
            ],
            "image/png": "[encoded data removed]"
          },
          "metadata": {}
        }
      ]
    },
    {
      "cell_type": "markdown",
      "source": [
        "# Analyzing Reads"
      ],
      "metadata": {
        "id": "iGa66efhYofX"
      }
    },
    {
      "cell_type": "code",
      "source": [
        "# Read the number of \"G\" or \"C\" in the sequence\n",
        "def readgc(reads):\n",
        "  gc = [0] * 100            # because there are 100 characters in each line\n",
        "  total = [0] * 100         # because there are 100 characters in each line\n",
        "  for read in reads:\n",
        "    for i in range(len(read)):\n",
        "      if read[i] == 'G' or read[i] == 'C':            # this will check the \"G\" or \"C\" in each vertical line\n",
        "        gc[i] += 1\n",
        "      total[i] += 1\n",
        "  return gc, total\n",
        "\n",
        "print(readgc(seqs))\n",
        "gc, total = readgc(seqs)"
      ],
      "metadata": {
        "colab": {
          "base_uri": "https://localhost:8080/"
        },
        "id": "9josrcYwYxH5",
        "outputId": "9918f597-c77f-4e40-eb40-624f93b86d09"
      },
      "execution_count": 19,
      "outputs": [
        {
          "output_type": "stream",
          "name": "stdout",
          "text": [
            "([486, 535, 574, 569, 580, 562, 557, 563, 562, 577, 582, 547, 531, 572, 548, 546, 566, 587, 546, 548, 578, 588, 601, 594, 534, 553, 553, 577, 626, 565, 539, 579, 558, 593, 590, 578, 579, 567, 561, 599, 591, 575, 546, 549, 574, 547, 566, 593, 553, 578, 566, 579, 596, 578, 606, 576, 551, 590, 554, 568, 575, 565, 597, 539, 584, 577, 549, 581, 598, 578, 564, 553, 571, 551, 575, 548, 591, 579, 571, 572, 558, 602, 578, 582, 548, 583, 542, 570, 601, 593, 551, 594, 543, 607, 572, 598, 598, 536, 593, 561], [1000, 1000, 1000, 1000, 1000, 1000, 1000, 1000, 1000, 1000, 1000, 1000, 1000, 1000, 1000, 1000, 1000, 1000, 1000, 1000, 1000, 1000, 1000, 1000, 1000, 1000, 1000, 1000, 1000, 1000, 1000, 1000, 1000, 1000, 1000, 1000, 1000, 1000, 1000, 1000, 1000, 1000, 1000, 1000, 1000, 1000, 1000, 1000, 1000, 1000, 1000, 1000, 1000, 1000, 1000, 1000, 1000, 1000, 1000, 1000, 1000, 1000, 1000, 1000, 1000, 1000, 1000, 1000, 1000, 1000, 1000, 1000, 1000, 1000, 1000, 1000, 1000, 1000, 1000, 1000, 1000, 1000, 1000, 1000, 1000, 1000, 1000, 1000, 1000, 1000, 1000, 1000, 1000, 1000, 1000, 1000, 1000, 1000, 1000, 1000])\n"
          ]
        }
      ]
    },
    {
      "cell_type": "code",
      "source": [
        "# Draw a graph giving the percentage of \"G\" or \"C\" in the sequence\n",
        "def gcGraph(gc, total):\n",
        "  for i in range(len(gc)):\n",
        "    if total[i] > 0:\n",
        "      gc[i] = 100.0 * gc[i] / total[i]\n",
        "  plt.plot(range(len(gc)), gc)\n",
        "  plt.show()\n",
        "\n",
        "gcGraph(gc, total)"
      ],
      "metadata": {
        "colab": {
          "base_uri": "https://localhost:8080/",
          "height": 430
        },
        "id": "cBG7lIK0s3yo",
        "outputId": "b9b20e03-0780-4199-9f97-108fe12f5098"
      },
      "execution_count": 20,
      "outputs": [
        {
          "output_type": "display_data",
          "data": {
            "text/plain": [
              "<Figure size 640x480 with 1 Axes>"
            ],
            "image/png": "[encoded data removed]"
          },
          "metadata": {}
        }
      ]
    },
    {
      "cell_type": "markdown",
      "source": [
        "# Naive Exact Matching\n"
      ],
      "metadata": {
        "id": "f246atlsyhme"
      }
    },
    {
      "cell_type": "code",
      "source": [
        "def naiveMatch(p, t):\n",
        "  occurrences = []\n",
        "  for i in range(len(t) - len(p) + 1):\n",
        "    match = True\n",
        "    for j in range(len(p)):\n",
        "      if t[i+j] != p[j]:\n",
        "        match = False\n",
        "        break\n",
        "    if match:\n",
        "      occurrences.append(i)\n",
        "  return occurrences"
      ],
      "metadata": {
        "id": "LKHGlPIcypNc"
      },
      "execution_count": 21,
      "outputs": []
    },
    {
      "cell_type": "code",
      "source": [
        "t = 'ATGCTAGCTACTAGC'\n",
        "p = 'TAG'\n",
        "naiveMatch(p, t)"
      ],
      "metadata": {
        "colab": {
          "base_uri": "https://localhost:8080/"
        },
        "id": "rF7pIgIP09C0",
        "outputId": "1f3bd947-c41b-439e-95a8-9d763619fa45"
      },
      "execution_count": 22,
      "outputs": [
        {
          "output_type": "execute_result",
          "data": {
            "text/plain": [
              "[4, 11]"
            ]
          },
          "metadata": {},
          "execution_count": 22
        }
      ]
    },
    {
      "cell_type": "markdown",
      "source": [
        "# Artificial Matching"
      ],
      "metadata": {
        "id": "DxPtxyMO7KsL"
      }
    },
    {
      "cell_type": "code",
      "source": [
        "!wget http://d28rh4a8wq0iu5.cloudfront.net/ads1/data/phix.fa\n",
        "\n",
        "genome = readGenome('phix.fa')"
      ],
      "metadata": {
        "colab": {
          "base_uri": "https://localhost:8080/"
        },
        "id": "f6sQPTlN0P49",
        "outputId": "1372a368-a8ca-43ed-a9b2-77afe4f2ecdf"
      },
      "execution_count": 23,
      "outputs": [
        {
          "output_type": "stream",
          "name": "stdout",
          "text": [
            "--2024-07-08 12:47:11--  http://d28rh4a8wq0iu5.cloudfront.net/ads1/data/phix.fa\n",
            "Resolving d28rh4a8wq0iu5.cloudfront.net (d28rh4a8wq0iu5.cloudfront.net)... 54.230.209.53, 54.230.209.153, 54.230.209.99, ...\n",
            "Connecting to d28rh4a8wq0iu5.cloudfront.net (d28rh4a8wq0iu5.cloudfront.net)|54.230.209.53|:80... connected.\n",
            "HTTP request sent, awaiting response... 200 OK\n",
            "Length: 5528 (5.4K) [application/octet-stream]\n",
            "Saving to: ‘phix.fa’\n",
            "\n",
            "\rphix.fa               0%[                    ]       0  --.-KB/s               \rphix.fa             100%[===================>]   5.40K  --.-KB/s    in 0s      \n",
            "\n",
            "2024-07-08 12:47:11 (615 MB/s) - ‘phix.fa’ saved [5528/5528]\n",
            "\n"
          ]
        }
      ]
    },
    {
      "cell_type": "code",
      "source": [
        "# Matching reads - Artficial Reading\n",
        "def generateReads(genome, numReads, readLen):\n",
        "  reads = []\n",
        "  for _ in range(numReads):\n",
        "    start = random.randint(0, len(genome) - readLen)\n",
        "    reads.append(genome[start:start+readLen])\n",
        "  return reads\n",
        "\n",
        "reads = generateReads(genome, 10, 100)\n",
        "\n",
        "numMatched = 0\n",
        "for r in reads:\n",
        "  matched = naiveMatch(r, genome)\n",
        "  if len(matched) > 0:\n",
        "    numMatched += 1\n",
        "print('%d/%d reads matched correctly' % (numMatched, len(reads)))"
      ],
      "metadata": {
        "colab": {
          "base_uri": "https://localhost:8080/"
        },
        "id": "fZWAbh3y2538",
        "outputId": "ecf83ff9-9efa-417f-f220-4e0195088948"
      },
      "execution_count": 24,
      "outputs": [
        {
          "output_type": "stream",
          "name": "stdout",
          "text": [
            "10/10 reads matched correctly\n"
          ]
        }
      ]
    },
    {
      "cell_type": "markdown",
      "source": [
        "# Real Reads Matching\n"
      ],
      "metadata": {
        "id": "CZCxduwp7RLX"
      }
    },
    {
      "cell_type": "code",
      "source": [
        "!wget http://d28rh4a8wq0iu5.cloudfront.net/ads1/data/ERR266411_1.first1000.fastq\n",
        "\n",
        "phix_reads, _ = readFastq('ERR266411_1.first1000.fastq')          # \"_\" because that part is not to be saved"
      ],
      "metadata": {
        "colab": {
          "base_uri": "https://localhost:8080/"
        },
        "id": "RpSNK_RV9uQr",
        "outputId": "bab19a63-82f5-4dfe-b85b-13dbb1c21125"
      },
      "execution_count": 25,
      "outputs": [
        {
          "output_type": "stream",
          "name": "stdout",
          "text": [
            "--2024-07-08 12:47:12--  http://d28rh4a8wq0iu5.cloudfront.net/ads1/data/ERR266411_1.first1000.fastq\n",
            "Resolving d28rh4a8wq0iu5.cloudfront.net (d28rh4a8wq0iu5.cloudfront.net)... 54.230.209.53, 54.230.209.153, 54.230.209.99, ...\n",
            "Connecting to d28rh4a8wq0iu5.cloudfront.net (d28rh4a8wq0iu5.cloudfront.net)|54.230.209.53|:80... connected.\n",
            "HTTP request sent, awaiting response... 200 OK\n",
            "Length: 254384 (248K) [audio/mpeg]\n",
            "Saving to: ‘ERR266411_1.first1000.fastq’\n",
            "\n",
            "ERR266411_1.first10 100%[===================>] 248.42K  --.-KB/s    in 0.06s   \n",
            "\n",
            "2024-07-08 12:47:12 (4.05 MB/s) - ‘ERR266411_1.first1000.fastq’ saved [254384/254384]\n",
            "\n"
          ]
        }
      ]
    },
    {
      "cell_type": "code",
      "source": [
        "numMatched = 0\n",
        "n = 0\n",
        "for r in phix_reads:\n",
        "  matched = naiveMatch(r, genome)\n",
        "  n += 1\n",
        "  if len(matched) > 0:\n",
        "    numMatched += 1\n",
        "\n",
        "print('%d/%d reads matched correctly' % (numMatched, n))"
      ],
      "metadata": {
        "colab": {
          "base_uri": "https://localhost:8080/"
        },
        "id": "D0Xs4_4H36Xg",
        "outputId": "f862cf15-d1f5-49a1-e0d7-bbe4509056b8"
      },
      "execution_count": 26,
      "outputs": [
        {
          "output_type": "stream",
          "name": "stdout",
          "text": [
            "7/1000 reads matched correctly\n"
          ]
        }
      ]
    },
    {
      "cell_type": "code",
      "source": [
        "# Improvised version, decreasing the read count also including the\n",
        "# reverse complement function to match the compliments of the bases with the other strand\n",
        "\n",
        "def reverseComplement(seq):\n",
        "  complement = {'A': 'T', 'T': 'A', 'C': 'G', 'G': 'C', 'N': 'N'}           # \"N\" means not sure\n",
        "  return ''.join([complement[base] for base in seq[::-1]])\n",
        "\n",
        "numMatched = 0\n",
        "n = 0\n",
        "for r in phix_reads:\n",
        "  r = r[:20]                              # considering the first 20 characters\n",
        "  matched = naiveMatch(r, genome)\n",
        "  matched.extend(naiveMatch(reverseComplement(r), genome))\n",
        "  n += 1\n",
        "  if len(matched) > 0:\n",
        "    numMatched += 1\n",
        "\n",
        "print('%d/%d reads matched correctly' % (numMatched, n))"
      ],
      "metadata": {
        "colab": {
          "base_uri": "https://localhost:8080/"
        },
        "id": "z4VBMgfH_QCc",
        "outputId": "7a9d8449-fc2c-4829-a092-98777877e286"
      },
      "execution_count": 27,
      "outputs": [
        {
          "output_type": "stream",
          "name": "stdout",
          "text": [
            "954/1000 reads matched correctly\n"
          ]
        }
      ]
    }
  ]
}