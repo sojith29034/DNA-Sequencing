{
  "nbformat": 4,
  "nbformat_minor": 0,
  "metadata": {
    "colab": {
      "provenance": [],
      "toc_visible": true,
      "authorship_tag": "ABX9TyOX0q00Smsa/o9gGu61EQBg",
      "include_colab_link": true
    },
    "kernelspec": {
      "name": "python3",
      "display_name": "Python 3"
    },
    "language_info": {
      "name": "python"
    }
  },
  "cells": [
    {
      "cell_type": "markdown",
      "metadata": {
        "id": "view-in-github",
        "colab_type": "text"
      },
      "source": [
        "<a href=\"https://colab.research.google.com/github/sojith29034/DNA-Sequencing/blob/main_branch/Mod1.ipynb\" target=\"_parent\"><img src=\"https://colab.research.google.com/assets/colab-badge.svg\" alt=\"Open In Colab\"/></a>"
      ]
    },
    {
      "cell_type": "markdown",
      "source": [
        "# Basic string operations in python"
      ],
      "metadata": {
        "id": "shQdVyjP881C"
      }
    },
    {
      "cell_type": "code",
      "source": [
        "import random"
      ],
      "metadata": {
        "id": "MRmIuvrZyInD"
      },
      "execution_count": 3,
      "outputs": []
    },
    {
      "cell_type": "code",
      "execution_count": 1,
      "metadata": {
        "colab": {
          "base_uri": "https://localhost:8080/"
        },
        "id": "H3ppbNpk9oN4",
        "outputId": "96a74cda-2cd0-4dc9-b9ce-53c6c4756e64"
      },
      "outputs": [
        {
          "output_type": "stream",
          "name": "stdout",
          "text": [
            "ATGCATGC\n"
          ]
        }
      ],
      "source": [
        "seq1 = 'ATGC'\n",
        "seq2 = 'ATGC'\n",
        "print(seq1 + seq2)"
      ]
    },
    {
      "cell_type": "code",
      "source": [
        "base = \"ACGT\"\n",
        "print(base)"
      ],
      "metadata": {
        "colab": {
          "base_uri": "https://localhost:8080/"
        },
        "id": "1Q1vyBRcxpdD",
        "outputId": "748c0ad6-69e2-444d-cd7a-d124d3169ad8"
      },
      "execution_count": 2,
      "outputs": [
        {
          "output_type": "stream",
          "name": "stdout",
          "text": [
            "ACGT\n"
          ]
        }
      ]
    },
    {
      "cell_type": "code",
      "source": [
        "random.choice(base)"
      ],
      "metadata": {
        "colab": {
          "base_uri": "https://localhost:8080/",
          "height": 36
        },
        "id": "2GUIUG9Mx6qD",
        "outputId": "c758bf98-856f-4417-dbd7-a0b6204fe9ee"
      },
      "execution_count": 10,
      "outputs": [
        {
          "output_type": "execute_result",
          "data": {
            "text/plain": [
              "'A'"
            ],
            "application/vnd.google.colaboratory.intrinsic+json": {
              "type": "string"
            }
          },
          "metadata": {},
          "execution_count": 10
        }
      ]
    },
    {
      "cell_type": "code",
      "source": [
        "random.seed(1)      # so that the random choice does not change\n",
        "random.choice(base)"
      ],
      "metadata": {
        "colab": {
          "base_uri": "https://localhost:8080/",
          "height": 36
        },
        "id": "9bJMqFJyyNsU",
        "outputId": "0c3c2888-e77d-40de-ffc5-fd51a14ce2d4"
      },
      "execution_count": 12,
      "outputs": [
        {
          "output_type": "execute_result",
          "data": {
            "text/plain": [
              "'C'"
            ],
            "application/vnd.google.colaboratory.intrinsic+json": {
              "type": "string"
            }
          },
          "metadata": {},
          "execution_count": 12
        }
      ]
    },
    {
      "cell_type": "code",
      "source": [
        "seq = ''\n",
        "for _ in range(10):\n",
        "    seq += random.choice(base)\n",
        "print(seq)\n",
        "\n",
        "# OR\n",
        "\n",
        "seq = ''.join([random.choice(base) for _ in range(10)])\n",
        "print(seq)"
      ],
      "metadata": {
        "colab": {
          "base_uri": "https://localhost:8080/"
        },
        "id": "BR6fOnFOycxh",
        "outputId": "6d30b12c-d293-43e5-a01d-3de3e973d0cc"
      },
      "execution_count": 17,
      "outputs": [
        {
          "output_type": "stream",
          "name": "stdout",
          "text": [
            "TCTTCGGATA\n",
            "CTGTATAGTC\n"
          ]
        }
      ]
    },
    {
      "cell_type": "code",
      "source": [
        "seq[1:3]      # from index 1 to index (3-1)\n",
        "seq[3:]       # from index 3 to the end\n",
        "seq[:3]       # from the beginning to index 3\n",
        "seq[-3:]      # from index (len(seq) - 3) to the end"
      ],
      "metadata": {
        "colab": {
          "base_uri": "https://localhost:8080/",
          "height": 36
        },
        "id": "dZ7ACSgsy9R3",
        "outputId": "3794f6f3-a37b-431b-8f44-223ea2f86118"
      },
      "execution_count": 23,
      "outputs": [
        {
          "output_type": "execute_result",
          "data": {
            "text/plain": [
              "'GTC'"
            ],
            "application/vnd.google.colaboratory.intrinsic+json": {
              "type": "string"
            }
          },
          "metadata": {},
          "execution_count": 23
        }
      ]
    },
    {
      "cell_type": "markdown",
      "source": [
        "# Manipulating DNA strings"
      ],
      "metadata": {
        "id": "gnh1_3uN9Ve1"
      }
    }
  ]
}